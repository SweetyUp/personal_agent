{
 "cells": [
  {
   "cell_type": "code",
   "execution_count": 1,
   "metadata": {},
   "outputs": [],
   "source": [
    "from data_tools import *"
   ]
  },
  {
   "cell_type": "code",
   "execution_count": 2,
   "metadata": {},
   "outputs": [
    {
     "data": {
      "text/plain": [
       "54726"
      ]
     },
     "execution_count": 2,
     "metadata": {},
     "output_type": "execute_result"
    }
   ],
   "source": [
    "init_path = r'/Users/xiaotianqi/code/GraduationPrj/dataset/init_dataset/Haruhi_54K_v1.jsonl'\n",
    "init_data = jsonl2dict(init_path)\n",
    "len(init_data)"
   ]
  },
  {
   "cell_type": "code",
   "execution_count": 4,
   "metadata": {},
   "outputs": [
    {
     "data": {
      "text/plain": [
       "'英文'"
      ]
     },
     "execution_count": 4,
     "metadata": {},
     "output_type": "execute_result"
    }
   ],
   "source": [
    "# 统计一下    \n",
    "if agent_dial_language not in  language_dict[user_dial_language]:\n",
    "    language_dict[user_dial_language][agent_dial_language] = 1\n",
    "else:\n",
    "    language_dict[user_dial_language][agent_dial_language] += 1\n",
    "\n",
    "\n",
    "if i['user_role'] not in user_ls:\n",
    "    user_ls.append(i['user_role'])\n",
    "if i['agent_role'] not in agent_ls:\n",
    "    agent_ls.append(i['agent_role'])\n"
   ]
  },
  {
   "cell_type": "code",
   "execution_count": 15,
   "metadata": {},
   "outputs": [],
   "source": [
    "user_ls = []\n",
    "agent_ls = []\n",
    "clear_init_data = []\n",
    "language_dict = {'中文':{},'英文':{},'中英混杂':{}}\n",
    "for i in init_data:\n",
    "    agent_name = i['agent_role']\n",
    "    user_name = i['user_role']\n",
    "    user_dial = i['user_question']\n",
    "    agent_dial = i['agent_response']\n",
    "    language_prompt = ''\n",
    "    \n",
    "    # 清除掉所有旁白 \n",
    "    if i['user_role'] == '旁白' or i['user_role'] == 'scene':\n",
    "        continue\n",
    "\n",
    "    user_dial_language = detect_language(user_dial)\n",
    "    agent_dial_language = detect_language(agent_dial)\n",
    "\n",
    "    # 处理中英混杂的数据 \n",
    "    if user_dial_language == '英文' and agent_dial_language == '中文':\n",
    "        language_prompt = 'speak chinese.'\n",
    "    if user_dial_language == '中文' and agent_dial_language == '英文':\n",
    "        language_prompt = '请讲英语。'\n",
    "    prompt = f'''你现在需要沉浸式扮演{agent_name}，请你按照{agent_name}的语言风格，性格和说话习惯与{user_name}对话。{language_prompt}现在{user_name}对你说{user_dial}作为{agent_name}，你将会回复：'''\n",
    "    temp_save_data = {\"prompt\":prompt,\"response\":agent_dial}\n",
    "    data2jsonl()"
   ]
  },
  {
   "cell_type": "code",
   "execution_count": 16,
   "metadata": {},
   "outputs": [
    {
     "data": {
      "text/plain": [
       "'你现在需要沉浸式扮演Draco Malfoy，请你按照Draco Malfoy的语言风格，性格和说话习惯与Harry对话。现在Harry对你说「Why did you have to kill him?」作为Draco Malfoy，你将会回复：\\n'"
      ]
     },
     "execution_count": 16,
     "metadata": {},
     "output_type": "execute_result"
    }
   ],
   "source": [
    "prompt"
   ]
  },
  {
   "cell_type": "code",
   "execution_count": 11,
   "metadata": {},
   "outputs": [
    {
     "name": "stdout",
     "output_type": "stream",
     "text": [
      "数据条数为： 50618\n",
      "语言类型为： {'中文': {'中文': 34861, '中英混杂': 561, '英文': 2706}, '英文': {'英文': 12131, '中文': 2, '中英混杂': 11}, '中英混杂': {'中文': 167, '英文': 101, '中英混杂': 78}}\n"
     ]
    }
   ],
   "source": [
    "print('数据条数为：',len(clear_init_data))\n",
    "print('语言类型为：',language_dict)"
   ]
  },
  {
   "cell_type": "code",
   "execution_count": 48,
   "metadata": {},
   "outputs": [
    {
     "data": {
      "text/plain": [
       "{'user_role': '丁伟',\n",
       " 'user_question': '「你听他说 我看他还咋吹」',\n",
       " 'agent_role': '李云龙',\n",
       " 'agent_response': '「你小子别嘴硬，我说的可是真的，咱们赶紧过去看看，说不定真的有好事发生了。」',\n",
       " 'question_source': 'story',\n",
       " 'more_dialogues': [],\n",
       " 'agent_role_name_en': 'liyunlong'}"
      ]
     },
     "execution_count": 48,
     "metadata": {},
     "output_type": "execute_result"
    }
   ],
   "source": [
    "clear_init_data[4500]"
   ]
  },
  {
   "attachments": {},
   "cell_type": "markdown",
   "metadata": {},
   "source": [
    "处理中英文混杂的数据\n",
    "input：英文  output：英文\n",
    "input：英文  output：中文\n",
    "input：英文  output：中英混杂\n"
   ]
  },
  {
   "cell_type": "code",
   "execution_count": 32,
   "metadata": {},
   "outputs": [],
   "source": [
    "agent_name = i['agent_role']\n",
    "user_name = i['user_role']\n",
    "user_dial = i['user_question']\n",
    "\n",
    "prompt = f''' \n",
    "你现在需要沉浸式扮演{agent_name}，请你按照{agent_name}的语言风格，性格和说话习惯与{user_name}对话。现在{user_name}对你说{user_dial}作为{agent_name}，你将会回复：\n",
    "'''"
   ]
  },
  {
   "cell_type": "code",
   "execution_count": 33,
   "metadata": {},
   "outputs": [
    {
     "name": "stdout",
     "output_type": "stream",
     "text": [
      " \n",
      "你现在需要沉浸式扮演韦小宝，请你按照韦小宝的语言风格，性格和说话习惯与阿珂对话。现在阿珂对你说「是，是我求你的。你是英雄好汉，大丈夫挺身而出，济人之急，又又最听我话的。」作为韦小宝，你将会回复：\n",
      "\n"
     ]
    }
   ],
   "source": [
    "print(prompt)"
   ]
  },
  {
   "cell_type": "code",
   "execution_count": 34,
   "metadata": {},
   "outputs": [
    {
     "data": {
      "text/plain": [
       "{'prompt': 'system_prompt + 旅行者:「你觉得我们应该继续前进还是返回去？」 ',\n",
       " 'response': 'agent_response「这里是璃月的图书馆，收藏了许多珍贵的书籍和历史文献。」',\n",
       " 'history': []}"
      ]
     },
     "execution_count": 34,
     "metadata": {},
     "output_type": "execute_result"
    }
   ],
   "source": [
    "{\"prompt\": \"system_prompt + 旅行者:「你觉得我们应该继续前进还是返回去？」 \", \"response\": \"agent_response「这里是璃月的图书馆，收藏了许多珍贵的书籍和历史文献。」\", \"history\": []}"
   ]
  },
  {
   "cell_type": "code",
   "execution_count": null,
   "metadata": {},
   "outputs": [],
   "source": []
  }
 ],
 "metadata": {
  "kernelspec": {
   "display_name": "Python 3",
   "language": "python",
   "name": "python3"
  },
  "language_info": {
   "codemirror_mode": {
    "name": "ipython",
    "version": 3
   },
   "file_extension": ".py",
   "mimetype": "text/x-python",
   "name": "python",
   "nbconvert_exporter": "python",
   "pygments_lexer": "ipython3",
   "version": "3.9.6"
  },
  "orig_nbformat": 4
 },
 "nbformat": 4,
 "nbformat_minor": 2
}
